{
 "cells": [
  {
   "cell_type": "markdown",
   "id": "fdeb7e09-0ea5-4521-a7e9-3da7910fd9cf",
   "metadata": {},
   "source": [
    "# Вариант 9"
   ]
  },
  {
   "cell_type": "markdown",
   "id": "0bd0bbbb-083f-4dcb-a162-8c0d5f3507fc",
   "metadata": {},
   "source": [
    "# Задание 1"
   ]
  },
  {
   "cell_type": "markdown",
   "id": "8f1826e2-2511-41eb-b553-8ddd4dc0744a",
   "metadata": {},
   "source": [
    "## № 2. Условие\n",
    "Игральный кубик бросается 5 раз. Какова вероятность того, что в результате будут выпадать\n",
    "только 2 числа, причем одно появится дважды, другое – трижды?"
   ]
  },
  {
   "cell_type": "markdown",
   "id": "625175c4-053b-48b1-bfd4-d3f7bdc0af4d",
   "metadata": {},
   "source": [
    "## Решение\n",
    "1 способ\n",
    "\n",
    "$ P = \\frac{6 \\cdot 5 C^3_5}{6^5} \\approx 0.038 $\n",
    "\n",
    "2 способ\n",
    "\n",
    "$ P = 2 С^2_5 \\cdot (\\frac{1}{6})^3 \\cdot (\\frac{1}{6})^2 \\cdot C^2_6 \\approx 0.038 $\n"
   ]
  },
  {
   "cell_type": "code",
   "execution_count": 15,
   "id": "da6aa2ab-15be-4cca-b8ff-dade44d2bd0f",
   "metadata": {},
   "outputs": [
    {
     "name": "stdout",
     "output_type": "stream",
     "text": [
      "0.038580246913580245\n"
     ]
    }
   ],
   "source": [
    "from math import factorial\n",
    "\n",
    "combinations = factorial(5)/(factorial(3)*factorial(5-3))\n",
    "result = (6*5*combinations)/(6**5)\n",
    "print(result)"
   ]
  },
  {
   "cell_type": "code",
   "execution_count": 16,
   "id": "e58dade0-0b6d-400e-81eb-11098026c812",
   "metadata": {},
   "outputs": [
    {
     "name": "stdout",
     "output_type": "stream",
     "text": [
      "0.03858024691358023\n"
     ]
    }
   ],
   "source": [
    "from math import factorial\n",
    "\n",
    "combinations1 = factorial(5)/(factorial(3)*factorial(5-3))\n",
    "combinations2 = factorial(6)/(factorial(2)*factorial(6-2))\n",
    "result = 2 * combinations1 * ((1/6)**3) * ((1/6)**2) * combinations2\n",
    "print(result)"
   ]
  },
  {
   "cell_type": "markdown",
   "id": "7865ccd8-a65a-499d-91dc-78b063153418",
   "metadata": {},
   "source": [
    "## № 3. Условие"
   ]
  },
  {
   "cell_type": "markdown",
   "id": "19541cf8-7495-4c50-87ba-c2ec575b595a",
   "metadata": {},
   "source": [
    "В коробке лежат 70 фруктов, 10 из которых испорчены. Наугад берутся 5 фруктов. С какой\n",
    "вероятность среди выбранных фруктов есть и испорченные, и хорошие?"
   ]
  },
  {
   "cell_type": "markdown",
   "id": "0cd3d282-7c59-4d54-ac2b-f9f604f97e9a",
   "metadata": {},
   "source": [
    "## Решение\n",
    "Для решения данной задачи можно пойти от обратного: исключить варианты когда есть только испорченные и только хорошие продукты\n",
    "\n",
    "$ 1 - \\frac{10}{70} \\cdot \\frac{9}{69} \\cdot \\frac{8}{68} \\cdot \\frac{7}{67} \\cdot \\frac{6}{66} - \\frac{60}{70} \\cdot \\frac{59}{69} \\cdot \\frac{58}{68} \\cdot \\frac{57}{67} \\cdot \\frac{56}{66} \\approx 0.55 $"
   ]
  },
  {
   "cell_type": "code",
   "execution_count": 17,
   "id": "5b4fb67d-5204-4449-b930-f5e7d25b343e",
   "metadata": {},
   "outputs": [
    {
     "name": "stdout",
     "output_type": "stream",
     "text": [
      "0.5487269534679544\n"
     ]
    }
   ],
   "source": [
    "onlyexpired_probability = (10/70)*(9/69)*(8/68)*(7/67)*(6/66)\n",
    "onlynotexpired_probability = (60/70)*(59/69)*(58/68)*(57/67)*(56/66)\n",
    "\n",
    "print(1-onlyexpired_probability-onlynotexpired_probability)"
   ]
  },
  {
   "cell_type": "markdown",
   "id": "8767ca46-e535-4739-a7db-362706a7ade7",
   "metadata": {},
   "source": [
    "# Задание 2"
   ]
  },
  {
   "cell_type": "markdown",
   "id": "e2034492-ebe7-4fae-b107-7a9a82c0b164",
   "metadata": {},
   "source": [
    "# № 3. Условие\n",
    "На окружности радиуса r выбирается наудачу точка, и через нее проводится диаметр. На\n",
    "диаметре наудачу выбирается точка — середина хорды, перпендикулярной диаметру. Найти\n",
    "вероятность того, что длина полученной хорды превзойдет x."
   ]
  },
  {
   "cell_type": "markdown",
   "id": "31b7dd7d-0cd2-48b2-8f51-6f5dee795402",
   "metadata": {},
   "source": [
    "# Решение\n",
    "$ P = \\frac{2\\sqrt{r^2-(\\frac{x}{2})^2}}{2r} = \\sqrt{1 - (\\frac{x}{2r})^2} $\n",
    "\n",
    "![](circle.png)"
   ]
  },
  {
   "cell_type": "markdown",
   "id": "20c57549-9bd7-4bf1-85e7-7c8329b46289",
   "metadata": {},
   "source": [
    "# № 5. Условие\n",
    "На окружности радиуса r случайно выбираются две точки, которые служат концами хорды.\n",
    "С какой вероятностью длина хорды больше x?"
   ]
  },
  {
   "cell_type": "markdown",
   "id": "8f595ba6-c3ae-4d0e-93e1-0ffb76c6e7f0",
   "metadata": {},
   "source": [
    "# Решение\n",
    "$ P = 1 - \\frac{2arcsin(\\frac{x}{2r})\\cdot r}{2\\pi \\cdot r} = 1 - \\frac{arcsin(\\frac{x}{2r})}{\\pi}$\n",
    "\n",
    "![](circles2.png)\n"
   ]
  },
  {
   "cell_type": "markdown",
   "id": "458a18ae-6487-47ae-85a8-6cfaabbd7125",
   "metadata": {},
   "source": [
    "# Задание 3"
   ]
  },
  {
   "cell_type": "markdown",
   "id": "0398dc5b-5537-4e5b-98df-45e58a588011",
   "metadata": {},
   "source": [
    "## № 3. Условие\n",
    "Введем события $ A_i = \\{ X = i \\} $, $ B_i = \\{ Y = i \\} $ i ⩾ 0. Известно, что для любых i ⩾ 0 и j ⩾ 0 события $ A_i $ и $ B_i $ – независимы, \n",
    "\n",
    "при этом $ P(X = i) = P(Y = i) = (1 - p)^i p $ , где, $ i ⩾ 0 $\n",
    "\n",
    "где $p ∈ (0, 1)$. Найти $P(X = i|X + Y = j)$.\n"
   ]
  },
  {
   "cell_type": "markdown",
   "id": "87075468-1bc5-4e91-bf6a-a6cf34c5bdc8",
   "metadata": {},
   "source": [
    "## Решение\n",
    "$ q = (1 - p) $\n",
    "\n",
    "$ P(X=i) = P(Y=i)= q^ip $\n",
    "\n",
    "$ P(X=i|X+Y=j) = \\frac{P((X=i) \\land (X+Y=j))}{P(X+Y=j)} = \\frac{q^ip \\cdot q^{(j-i)}p}{p \\cdot q^jp + pq \\cdot q^{j-1}p + pq^2 \\cdot q^{j-2}p + ... + q^jp \\cdot p} = \\frac{q^jp^2}{(j+1)q^jp^2} = \\frac{1}{j+1}$"
   ]
  },
  {
   "cell_type": "markdown",
   "id": "89bb64d3-3593-4d38-806d-fd7575088f13",
   "metadata": {},
   "source": [
    "# Задание 4"
   ]
  },
  {
   "cell_type": "markdown",
   "id": "d592791f-1892-46da-bdb4-9533a2e27205",
   "metadata": {},
   "source": [
    "## Условие\n",
    "Рассмотрите схемы Бернулли при $ n ∈ {100, 1000, 10000} $ и\n",
    "$ p ∈ {0.001, 0.01, 0.1, 0.25, 0.5} $ и рассчитайте точные вероятности (где это возможно)\n",
    "$ P(S_n ∈ [n/2 -\\sqrt{npq}, n/2 + \\sqrt{npq}]), P(S_n ⩽ 5) $ и максимальную вероятность вида $ P(S_n = k) $, $ S_n $\n",
    "– количество успехов в n испытаниях, и приближенные с помощью одной из предельных теорем.\n",
    "Сравните точные и приближенные вероятности. Объясните результаты."
   ]
  },
  {
   "cell_type": "code",
   "execution_count": null,
   "id": "734c9ea3-9f14-4c01-9d1a-285b0a101f84",
   "metadata": {},
   "outputs": [],
   "source": []
  }
 ],
 "metadata": {
  "kernelspec": {
   "display_name": "Python 3 (ipykernel)",
   "language": "python",
   "name": "python3"
  },
  "language_info": {
   "codemirror_mode": {
    "name": "ipython",
    "version": 3
   },
   "file_extension": ".py",
   "mimetype": "text/x-python",
   "name": "python",
   "nbconvert_exporter": "python",
   "pygments_lexer": "ipython3",
   "version": "3.11.3"
  }
 },
 "nbformat": 4,
 "nbformat_minor": 5
}
