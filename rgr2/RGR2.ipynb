{
 "cells": [
  {
   "cell_type": "markdown",
   "id": "fee66082-4f09-470f-ba50-3c1cdf434064",
   "metadata": {},
   "source": [
    "# Расчетно-графическая работа №2 (Вариант 9)"
   ]
  },
  {
   "cell_type": "markdown",
   "id": "316edfb7-3d26-4204-a646-b3c2e7305c24",
   "metadata": {},
   "source": [
    "# Задание 1\n",
    "## Условие\n",
    "В коробке имеются 8 карандашей из которых 5 красных. Из этой коробки наудачу извлекаются 4 карандаша. Построить ряд распределения, найти функцию распределения, математическое ожидание, среднее квадратичное отклонение, моду и медиану числа красных карандашей в выборке. Найти вероятность того, что в выборке будет:\n",
    "\n",
    "а) хотя бы один красный карандаш\n",
    "\n",
    "б) менее двух красных карандашей\n",
    "\n",
    "## Решение\n",
    "$p_1 = 4 * \\frac{5}{8} * \\frac{3}{7} * \\frac{2}{6} * \\frac{1}{5} = \\frac{1}{14}$ \n",
    "\n",
    "$p_2 = C_4^2 * \\frac{5}{8} * \\frac{4}{7} * \\frac{3}{6} * \\frac{2}{5} = \\frac{6}{14}$ \n",
    "\n",
    "$p_3 = C_4^3 * \\frac{5}{8} * \\frac{4}{7} * \\frac{3}{6} * \\frac{3}{5} = \\frac{6}{14}$ \n",
    "\n",
    "$p_4 = \\frac{5}{8} * \\frac{4}{7} * \\frac{3}{6} * \\frac{2}{5} = \\frac{1}{14}$ \n",
    "| k | 1 | 2 | 3 | 4 |\n",
    "| - | - | - | - | - |\n",
    "| $p_k$ | $1/14$ | $6/14$ | $6/14$ | $1/14$ |\n",
    "\n",
    "\n",
    "\n",
    "$$\n",
    "    F(x) = \n",
    "    \\begin{equation}\n",
    "        \\begin{cases}\n",
    "          0, x \\le 1\\\\\n",
    "          1/14, x \\le 2\\\\\n",
    "          7/14, x \\le 3\\\\\n",
    "          13/14, x \\le 4\\\\\n",
    "          1, x > 4\n",
    "        \\end{cases}\\,.\n",
    "    \\end{equation}\n",
    "$$\n",
    "\n",
    "$EX = \\frac{1+12+18+4}{14} = \\frac{35}{14} = 2.5$\n",
    "\n",
    "$EX^2 = \\frac{1+24+54+16}{14} = \\frac{95}{14}$\n",
    "\n",
    "$Var X = \\frac{95}{14} - (\\frac{5}{2})^2 = \\frac{15}{28}$\n",
    "\n",
    "$σ = \\sqrt{Var X} = \\frac{1}{2} \\sqrt{\\frac{15}{7}}$\n",
    "\n",
    "$ Mod X = 2.5 $\n",
    "\n",
    "$ Med X = 2.5 $\n",
    "\n",
    "а) Ответ: вероятность того, что в выборке будет хотя бы один красный карандаш равна 1, поскольку в результате выборки обязательно будет извлечен красный карандаш\n",
    "\n",
    "б) Ответ: вероятность того, что в выборке будет менее двух красных карандашей равна $1/14$ исходя из ряда распределения\n"
   ]
  },
  {
   "cell_type": "markdown",
   "id": "012b5213-af99-4320-b4ac-470077b60ffb",
   "metadata": {},
   "source": [
    "# Задание 2\n",
    "## Условие\n",
    "Случайная величина $X$ подчинена закону равнобедренного треугольника на участке $[-a; a]$\n",
    "\n",
    "![ebsh](problem2.png)\n",
    "\n",
    "Найти:\n",
    "\n",
    "а) аналитическое задание $f(x)$\n",
    "\n",
    "б) функцию распределения $F(x)$\n",
    "\n",
    "в) вероятность $P \\{ a/2 \\le X < a \\} $\n",
    "\n",
    "г) математическое ожидание $EX$, дисперсию $Var X$, моду $mod(X)$ и медиану $mod(X)$\n",
    "\n",
    "## Решение\n",
    "\n",
    "Для того чтобы решить данную задачу необходимо найти высоту равнобедренного треугольника. Обозначим ее как A, тогда:\n",
    "\n",
    "![tirdaf](problem2_sol1.png)\n",
    "\n",
    "Перейдем к решению пункта а):\n",
    "\n",
    "$$\n",
    "    f(x) = \n",
    "    \\begin{equation}\n",
    "        \\begin{cases}\n",
    "          0, x \\not\\in  [-a; a]\\\\\n",
    "          \\frac{1}{a}(1-\\frac{|x|}{a}), x \\in [-a; a]\n",
    "        \\end{cases}\\,.\n",
    "    \\end{equation}\n",
    "$$\n",
    "\n",
    "б)\n",
    "$$\n",
    "    F(x) = \\int_{-\\infty}^x f(u)du \\ =\n",
    "    \\begin{equation}\n",
    "        \\begin{cases}\n",
    "          0, x \\le -a\\\\\n",
    "          \\frac{1}{a}\\int_{-a}^x (1+\\frac{u}{a})du \\ = \\frac{1}{a} (u + \\frac{u^2}{2a})|^x_{-a} = \\frac{1}{a} (x + \\frac{x^2}{2a} + \\frac{a}{2}) = \\frac{1}{2} + \\frac{x}{a}(1 + \\frac{1}{2}(\\frac{x}{a})), -a < x \\le 0 \\\\\n",
    "          \\frac{1}{2} + \\frac{1}{a} \\int_{0}^x(1-\\frac{u}{a})du\\ = \\frac{1}{a}(u-\\frac{u^2}{2a})|^x_0 + \\frac{1}{2} = \\frac{x}{a} - \\frac{x^2}{2a^2} + \\frac{1}{2}, 0 \\le x \\le a \\\\\n",
    "          1, a \\le x\n",
    "         \\end{cases}\\,.\n",
    "    \\end{equation}\n",
    "$$\n",
    "\n",
    "в) $P \\{ a/2 \\le X < a \\} = F(a) - F(\\frac{a}{2}) = 1 - (\\frac{1}{2} - \\frac{1}{8} + \\frac{1}{2}) = 1 - \\frac{7}{8} = \\frac{1}{8}$\n",
    "\n",
    "г) $EX = \\int_{-a}^a \\frac{x}{a} (1 - \\frac{|x|}{a})dx\\ = 0 $ (в силу симметрии)\n",
    "\n",
    "$ EX^2 = 2 \\int_{-a}^0 (1+\\frac{x}{a})dx\\ = 2 (\\frac{x^3}{3a} + \\frac{x^4}{4a^2})|_{-a}^0 = 2 (\\frac{a^2}{3} - \\frac{a^2}{4}) = \\frac{a^2}{6}$\n",
    "\n",
    "$ Var X = EX^2 - (EX)^2 = \\frac{a^2}{6} $\n",
    "\n",
    "В силу симметрии:\n",
    "\n",
    "$ Mod X = 0 $ $ Med X = 0 $\n",
    "\n"
   ]
  },
  {
   "cell_type": "markdown",
   "id": "29479aba-1828-4919-b884-71a0b7f63ca8",
   "metadata": {},
   "source": [
    "# Задание 5\n",
    "\n",
    "## Условие\n",
    "\n",
    "![problem5](problem5.png)\n",
    "\n",
    "При условии: $U[0, θ], θ = 6$\n",
    "\n",
    "## Решение"
   ]
  },
  {
   "cell_type": "code",
   "execution_count": 4,
   "id": "ffb527fe-e9ed-40aa-b131-9f66596d3871",
   "metadata": {},
   "outputs": [
    {
     "name": "stdout",
     "output_type": "stream",
     "text": [
      "600000.0 115243.76462082376\n"
     ]
    }
   ],
   "source": [
    "import numpy as np\n",
    "import scipy.stats as stats\n",
    "\n",
    "# Заданные параметры\n",
    "epsilon = 0.01\n",
    "sigma = 0.05\n",
    "theta = 6\n",
    "\n",
    "# Математическое ожидание и дисперсия для U[0, theta]\n",
    "mu_theta = theta / 2\n",
    "sigma_theta_squared = theta**2 / 12\n",
    "\n",
    "# Вычисление n с использованием неравенства Чебышёва\n",
    "n_chebyshev = sigma_theta_squared / (epsilon**2 * sigma)\n",
    "\n",
    "# Вычисление n с использованием ЦПТ\n",
    "# Находим Z-оценку для 1 - sigma/2 (двусторонний тест)\n",
    "Z = stats.norm.ppf(1 - sigma / 2)\n",
    "n_cpt = (Z**2 * sigma_theta_squared) / epsilon**2\n",
    "print(n_chebyshev, n_cpt)"
   ]
  },
  {
   "cell_type": "code",
   "execution_count": 5,
   "id": "7742033f-7b42-4762-9aa6-e171714497d9",
   "metadata": {},
   "outputs": [
    {
     "name": "stdout",
     "output_type": "stream",
     "text": [
      "100 1.0\n"
     ]
    }
   ],
   "source": [
    "def experiment(n, theta, mu_theta, epsilon, num_samples=100):\n",
    "    \"\"\"Функция для проведения эксперимента с заданным объемом выборки n.\"\"\"\n",
    "    success_count = 0\n",
    "\n",
    "    for _ in range(num_samples):\n",
    "        # Генерация выборки\n",
    "        sample = np.random.uniform(0, theta, int(n))\n",
    "        # Вычисление среднего значения выборки\n",
    "        sample_mean = np.mean(sample)\n",
    "        # Проверка условия\n",
    "        if abs(sample_mean - mu_theta) <= epsilon:\n",
    "            success_count += 1\n",
    "\n",
    "    return success_count\n",
    "\n",
    "# Проведение экспериментов для n, найденного через неравенство Чебышёва\n",
    "num_samples = 100\n",
    "success_chebyshev = experiment(n_chebyshev, theta, mu_theta, epsilon, num_samples)\n",
    "proportion_chebyshev = success_chebyshev / num_samples\n",
    "\n",
    "print(success_chebyshev, proportion_chebyshev)"
   ]
  },
  {
   "cell_type": "code",
   "execution_count": 6,
   "id": "264f51d8-ea7a-46f7-b082-8372b71f89b1",
   "metadata": {},
   "outputs": [
    {
     "name": "stdout",
     "output_type": "stream",
     "text": [
      "98 0.98\n"
     ]
    }
   ],
   "source": [
    "# Проведение экспериментов для n, найденного через ЦПТ\n",
    "success_cpt = experiment(n_cpt, theta, mu_theta, epsilon, num_samples)\n",
    "proportion_cpt = success_cpt / num_samples\n",
    "\n",
    "print(success_cpt, proportion_cpt)"
   ]
  },
  {
   "cell_type": "code",
   "execution_count": null,
   "id": "5e154ff8-bb0f-4ea2-9b01-6dee90a2279a",
   "metadata": {},
   "outputs": [],
   "source": []
  }
 ],
 "metadata": {
  "kernelspec": {
   "display_name": "Python 3 (ipykernel)",
   "language": "python",
   "name": "python3"
  },
  "language_info": {
   "codemirror_mode": {
    "name": "ipython",
    "version": 3
   },
   "file_extension": ".py",
   "mimetype": "text/x-python",
   "name": "python",
   "nbconvert_exporter": "python",
   "pygments_lexer": "ipython3",
   "version": "3.11.5"
  }
 },
 "nbformat": 4,
 "nbformat_minor": 5
}
